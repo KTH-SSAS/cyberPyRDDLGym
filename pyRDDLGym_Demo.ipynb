{
  "cells": [
    {
      "cell_type": "markdown",
      "metadata": {
        "id": "view-in-github",
        "colab_type": "text"
      },
      "source": [
        "<a href=\"https://colab.research.google.com/github/KTH-SSAS/cyberPyRDDLGym/blob/master/pyRDDLGym_Demo.ipynb\" target=\"_parent\"><img src=\"https://colab.research.google.com/assets/colab-badge.svg\" alt=\"Open In Colab\"/></a>"
      ]
    },
    {
      "cell_type": "markdown",
      "metadata": {
        "id": "S72bQWT93LN6"
      },
      "source": [
        "# Preliminary Installations"
      ]
    },
    {
      "cell_type": "code",
      "execution_count": 1,
      "metadata": {
        "id": "w47DU8wogel8",
        "colab": {
          "base_uri": "https://localhost:8080/"
        },
        "outputId": "f0800ede-4248-45a3-b72d-1c0df6ad03c2"
      },
      "outputs": [
        {
          "output_type": "stream",
          "name": "stdout",
          "text": [
            "Requirement already satisfied: ipykernel in /usr/local/lib/python3.10/dist-packages (5.5.6)\n",
            "Collecting ipykernel\n",
            "  Downloading ipykernel-6.25.2-py3-none-any.whl (154 kB)\n",
            "\u001b[2K     \u001b[90m━━━━━━━━━━━━━━━━━━━━━━━━━━━━━━━━━━━━━━━\u001b[0m \u001b[32m154.2/154.2 kB\u001b[0m \u001b[31m3.1 MB/s\u001b[0m eta \u001b[36m0:00:00\u001b[0m\n",
            "\u001b[?25hCollecting comm>=0.1.1 (from ipykernel)\n",
            "  Downloading comm-0.1.4-py3-none-any.whl (6.6 kB)\n",
            "Requirement already satisfied: debugpy>=1.6.5 in /usr/local/lib/python3.10/dist-packages (from ipykernel) (1.6.6)\n",
            "Requirement already satisfied: ipython>=7.23.1 in /usr/local/lib/python3.10/dist-packages (from ipykernel) (7.34.0)\n",
            "Requirement already satisfied: jupyter-client>=6.1.12 in /usr/local/lib/python3.10/dist-packages (from ipykernel) (6.1.12)\n",
            "Requirement already satisfied: jupyter-core!=5.0.*,>=4.12 in /usr/local/lib/python3.10/dist-packages (from ipykernel) (5.3.1)\n",
            "Requirement already satisfied: matplotlib-inline>=0.1 in /usr/local/lib/python3.10/dist-packages (from ipykernel) (0.1.6)\n",
            "Requirement already satisfied: nest-asyncio in /usr/local/lib/python3.10/dist-packages (from ipykernel) (1.5.7)\n",
            "Requirement already satisfied: packaging in /usr/local/lib/python3.10/dist-packages (from ipykernel) (23.1)\n",
            "Requirement already satisfied: psutil in /usr/local/lib/python3.10/dist-packages (from ipykernel) (5.9.5)\n",
            "Requirement already satisfied: pyzmq>=20 in /usr/local/lib/python3.10/dist-packages (from ipykernel) (23.2.1)\n",
            "Requirement already satisfied: tornado>=6.1 in /usr/local/lib/python3.10/dist-packages (from ipykernel) (6.3.2)\n",
            "Requirement already satisfied: traitlets>=5.4.0 in /usr/local/lib/python3.10/dist-packages (from ipykernel) (5.7.1)\n",
            "Requirement already satisfied: setuptools>=18.5 in /usr/local/lib/python3.10/dist-packages (from ipython>=7.23.1->ipykernel) (67.7.2)\n",
            "Collecting jedi>=0.16 (from ipython>=7.23.1->ipykernel)\n",
            "  Downloading jedi-0.19.0-py2.py3-none-any.whl (1.6 MB)\n",
            "\u001b[2K     \u001b[90m━━━━━━━━━━━━━━━━━━━━━━━━━━━━━━━━━━━━━━━━\u001b[0m \u001b[32m1.6/1.6 MB\u001b[0m \u001b[31m29.8 MB/s\u001b[0m eta \u001b[36m0:00:00\u001b[0m\n",
            "\u001b[?25hRequirement already satisfied: decorator in /usr/local/lib/python3.10/dist-packages (from ipython>=7.23.1->ipykernel) (4.4.2)\n",
            "Requirement already satisfied: pickleshare in /usr/local/lib/python3.10/dist-packages (from ipython>=7.23.1->ipykernel) (0.7.5)\n",
            "Requirement already satisfied: prompt-toolkit!=3.0.0,!=3.0.1,<3.1.0,>=2.0.0 in /usr/local/lib/python3.10/dist-packages (from ipython>=7.23.1->ipykernel) (3.0.39)\n",
            "Requirement already satisfied: pygments in /usr/local/lib/python3.10/dist-packages (from ipython>=7.23.1->ipykernel) (2.16.1)\n",
            "Requirement already satisfied: backcall in /usr/local/lib/python3.10/dist-packages (from ipython>=7.23.1->ipykernel) (0.2.0)\n",
            "Requirement already satisfied: pexpect>4.3 in /usr/local/lib/python3.10/dist-packages (from ipython>=7.23.1->ipykernel) (4.8.0)\n",
            "Requirement already satisfied: python-dateutil>=2.1 in /usr/local/lib/python3.10/dist-packages (from jupyter-client>=6.1.12->ipykernel) (2.8.2)\n",
            "Requirement already satisfied: platformdirs>=2.5 in /usr/local/lib/python3.10/dist-packages (from jupyter-core!=5.0.*,>=4.12->ipykernel) (3.10.0)\n",
            "Requirement already satisfied: parso<0.9.0,>=0.8.3 in /usr/local/lib/python3.10/dist-packages (from jedi>=0.16->ipython>=7.23.1->ipykernel) (0.8.3)\n",
            "Requirement already satisfied: ptyprocess>=0.5 in /usr/local/lib/python3.10/dist-packages (from pexpect>4.3->ipython>=7.23.1->ipykernel) (0.7.0)\n",
            "Requirement already satisfied: wcwidth in /usr/local/lib/python3.10/dist-packages (from prompt-toolkit!=3.0.0,!=3.0.1,<3.1.0,>=2.0.0->ipython>=7.23.1->ipykernel) (0.2.6)\n",
            "Requirement already satisfied: six>=1.5 in /usr/local/lib/python3.10/dist-packages (from python-dateutil>=2.1->jupyter-client>=6.1.12->ipykernel) (1.16.0)\n",
            "Installing collected packages: jedi, comm, ipykernel\n",
            "  Attempting uninstall: ipykernel\n",
            "    Found existing installation: ipykernel 5.5.6\n",
            "    Uninstalling ipykernel-5.5.6:\n",
            "      Successfully uninstalled ipykernel-5.5.6\n",
            "\u001b[31mERROR: pip's dependency resolver does not currently take into account all the packages that are installed. This behaviour is the source of the following dependency conflicts.\n",
            "google-colab 1.0.0 requires ipykernel==5.5.6, but you have ipykernel 6.25.2 which is incompatible.\u001b[0m\u001b[31m\n",
            "\u001b[0mSuccessfully installed comm-0.1.4 ipykernel-6.25.2 jedi-0.19.0\n",
            "Collecting pyRDDLGym\n",
            "  Downloading pyRDDLGym-1.3.0-py3-none-any.whl (453 kB)\n",
            "\u001b[2K     \u001b[90m━━━━━━━━━━━━━━━━━━━━━━━━━━━━━━━━━━━━━━━\u001b[0m \u001b[32m453.9/453.9 kB\u001b[0m \u001b[31m7.3 MB/s\u001b[0m eta \u001b[36m0:00:00\u001b[0m\n",
            "\u001b[?25hCollecting ply (from pyRDDLGym)\n",
            "  Downloading ply-3.11-py2.py3-none-any.whl (49 kB)\n",
            "\u001b[2K     \u001b[90m━━━━━━━━━━━━━━━━━━━━━━━━━━━━━━━━━━━━━━━━\u001b[0m \u001b[32m49.6/49.6 kB\u001b[0m \u001b[31m5.0 MB/s\u001b[0m eta \u001b[36m0:00:00\u001b[0m\n",
            "\u001b[?25hRequirement already satisfied: pillow>=9.2.0 in /usr/local/lib/python3.10/dist-packages (from pyRDDLGym) (9.4.0)\n",
            "Requirement already satisfied: matplotlib>=3.5.0 in /usr/local/lib/python3.10/dist-packages (from pyRDDLGym) (3.7.1)\n",
            "Requirement already satisfied: numpy>=1.22 in /usr/local/lib/python3.10/dist-packages (from pyRDDLGym) (1.23.5)\n",
            "Requirement already satisfied: gym>=0.24.0 in /usr/local/lib/python3.10/dist-packages (from pyRDDLGym) (0.25.2)\n",
            "Requirement already satisfied: pygame in /usr/local/lib/python3.10/dist-packages (from pyRDDLGym) (2.5.1)\n",
            "Requirement already satisfied: cloudpickle>=1.2.0 in /usr/local/lib/python3.10/dist-packages (from gym>=0.24.0->pyRDDLGym) (2.2.1)\n",
            "Requirement already satisfied: gym-notices>=0.0.4 in /usr/local/lib/python3.10/dist-packages (from gym>=0.24.0->pyRDDLGym) (0.0.8)\n",
            "Requirement already satisfied: contourpy>=1.0.1 in /usr/local/lib/python3.10/dist-packages (from matplotlib>=3.5.0->pyRDDLGym) (1.1.0)\n",
            "Requirement already satisfied: cycler>=0.10 in /usr/local/lib/python3.10/dist-packages (from matplotlib>=3.5.0->pyRDDLGym) (0.11.0)\n",
            "Requirement already satisfied: fonttools>=4.22.0 in /usr/local/lib/python3.10/dist-packages (from matplotlib>=3.5.0->pyRDDLGym) (4.42.1)\n",
            "Requirement already satisfied: kiwisolver>=1.0.1 in /usr/local/lib/python3.10/dist-packages (from matplotlib>=3.5.0->pyRDDLGym) (1.4.5)\n",
            "Requirement already satisfied: packaging>=20.0 in /usr/local/lib/python3.10/dist-packages (from matplotlib>=3.5.0->pyRDDLGym) (23.1)\n",
            "Requirement already satisfied: pyparsing>=2.3.1 in /usr/local/lib/python3.10/dist-packages (from matplotlib>=3.5.0->pyRDDLGym) (3.1.1)\n",
            "Requirement already satisfied: python-dateutil>=2.7 in /usr/local/lib/python3.10/dist-packages (from matplotlib>=3.5.0->pyRDDLGym) (2.8.2)\n",
            "Requirement already satisfied: six>=1.5 in /usr/local/lib/python3.10/dist-packages (from python-dateutil>=2.7->matplotlib>=3.5.0->pyRDDLGym) (1.16.0)\n",
            "Installing collected packages: ply, pyRDDLGym\n",
            "Successfully installed ply-3.11 pyRDDLGym-1.3.0\n"
          ]
        }
      ],
      "source": [
        "!pip install --upgrade ipykernel\n",
        "!pip install pyRDDLGym"
      ]
    },
    {
      "cell_type": "markdown",
      "metadata": {
        "id": "EwsqJWWggj30"
      },
      "source": [
        "*Remember* to restart the runtime because of different version of packages!"
      ]
    },
    {
      "cell_type": "markdown",
      "source": [
        "# Agent"
      ],
      "metadata": {
        "id": "HhqeTNODjp-W"
      }
    },
    {
      "cell_type": "code",
      "source": [
        "import random\n",
        "import gym\n",
        "from pyRDDLGym.Core.Policies.Agents import BaseAgent\n",
        "from collections import OrderedDict\n",
        "\n",
        "# Attackers and defenders look the same\n",
        "class PassiveCyberAgent(BaseAgent):\n",
        "    def __init__(self, action_space):\n",
        "        self.action_space = action_space\n",
        "\n",
        "    def sample_action(self, state=None):\n",
        "        selected_action = next(iter(self.action_space.spaces))\n",
        "        action = {selected_action: self.action_space[selected_action]}\n",
        "        action[selected_action] = 0\n",
        "        print(f'action = {action}')\n",
        "        return action\n",
        "\n",
        "class RandomCyberAgent(BaseAgent):\n",
        "    def __init__(self, action_space, seed=None):\n",
        "        self.action_space = action_space\n",
        "        self.rng = random.Random(seed)\n",
        "        if seed is not None:\n",
        "            self.action_space.seed(seed)\n",
        "\n",
        "    def sample_action(self, state=None):\n",
        "        s = self.action_space.sample()\n",
        "        action = {}\n",
        "        selected_action = self.rng.sample(list(s), 1)[0]\n",
        "        action[selected_action] = s[selected_action]\n",
        "        return action\n",
        "\n",
        "class KeyboardCyberAgent(BaseAgent):\n",
        "    def __init__(self, action_space, seed=None):\n",
        "        self.action_space = action_space\n",
        "\n",
        "    def sample_action(self, state=None):\n",
        "        available_actions = list(self.action_space.spaces.keys())\n",
        "\n",
        "        print(\"Available actions:\")\n",
        "        for i, action in enumerate(available_actions):\n",
        "            print(f\"{i}. {action}\")\n",
        "\n",
        "        selected_index = int(input(\"Enter the index of the action you want to take: \"))\n",
        "\n",
        "        if selected_index < 0 or selected_index >= len(available_actions):\n",
        "            print(\"Invalid index. Using a default action.\")\n",
        "            selected_index = 0\n",
        "\n",
        "        selected_action = available_actions[selected_index]\n",
        "\n",
        "        return {selected_action: 1}\n",
        "\n",
        "# Wrapper to sample both an attack and a defense action\n",
        "class DoubleAgent(BaseAgent):\n",
        "\n",
        "    def __init__(self, action_space, seed=None, attacker_policy='random', defender_policy='passive'):\n",
        "        attack_steps = gym.spaces.dict.Dict({k: v for k, v in action_space.items() if 'attack' in k})\n",
        "        defense_steps = gym.spaces.dict.Dict({k: v for k, v in action_space.items() if 'defend' in k})\n",
        "        if attacker_policy == 'passive':\n",
        "            self.attacker = PassiveCyberAgent(attack_steps)\n",
        "        elif attacker_policy == 'keyboard':\n",
        "            self.attacker = KeyboardCyberAgent(attack_steps)\n",
        "        else:\n",
        "            self.attacker = RandomCyberAgent(attack_steps, seed=seed)\n",
        "        if defender_policy == 'passive':\n",
        "            self.defender = PassiveCyberAgent(defense_steps)\n",
        "        elif defender_policy == 'keyboard':\n",
        "            self.defender = KeyboardCyberAgent(defense_steps)\n",
        "        else:\n",
        "            self.defender = RandomCyberAgent(defense_steps, seed=seed)\n",
        "\n",
        "    def sample_action(self, state=None):\n",
        "        attack_action = self.attacker.sample_action(state=state)\n",
        "        defense_action = self.defender.sample_action(state=state)\n",
        "        print(f'attack_action = {attack_action}')\n",
        "        print(f'defense_action = {defense_action}')\n",
        "        action = attack_action | defense_action\n",
        "        return action"
      ],
      "metadata": {
        "id": "u22mHMDpjn7x"
      },
      "execution_count": 2,
      "outputs": []
    },
    {
      "cell_type": "markdown",
      "source": [
        "# RDDL"
      ],
      "metadata": {
        "id": "mnFmit1vvpwv"
      }
    },
    {
      "cell_type": "code",
      "execution_count": 4,
      "metadata": {
        "id": "5OuvTQ9ghJwc"
      },
      "outputs": [],
      "source": [
        "base_path = '/content/'"
      ]
    },
    {
      "cell_type": "code",
      "execution_count": 5,
      "metadata": {
        "id": "sg2O1H_QsZLW"
      },
      "outputs": [],
      "source": [
        "DOMAIN = \"\"\"\n",
        "domain simple_compromise {\n",
        "\n",
        "\ttypes {\n",
        "\t\thost: object;\n",
        "    credentials: object;\n",
        "\t};\n",
        "\n",
        "    pvariables {\n",
        "\n",
        "        // Associations\n",
        "        CONNECTED(host, host) : { non-fluent, bool, default = false };\n",
        "        ACCESSES(credentials, host)  : { non-fluent, bool, default = false };\n",
        "        STORES(host, credentials)  : { non-fluent, bool, default = false };\n",
        "\n",
        "        // State fluents\n",
        "        compromised(host) : { state-fluent, bool, default = false };\n",
        "        cracked(credentials) : { state-fluent, bool, default = false };\n",
        "\n",
        "        // Attacker action fluents\n",
        "        compromise_attack(host) : { action-fluent, bool, default = false };\n",
        "        crack_attack(credentials) : { action-fluent, bool, default = false };\n",
        "\n",
        "        // Defender action fluents\n",
        "        rotate_defend(credentials) : { action-fluent, bool, default = false };\n",
        "\n",
        "        // Initial TTCs\n",
        "        ittc_crack_attack(credentials) : { non-fluent, int, default = 0 };\n",
        "\n",
        "        // Remaining TTCs\n",
        "        rttc_crack_attack(credentials) : { state-fluent, int, default = 0 };\n",
        "\n",
        "    };\n",
        "\n",
        "cpfs {\n",
        "    compromised'(?ht) =\n",
        "        if (~compromised(?ht) ^ exists_{?hs : host, ?c : credentials} [CONNECTED(?hs, ?ht) ^ compromised(?hs) ^ ACCESSES(?c, ?ht) ^ cracked(?c) ^ compromise_attack(?ht)])\n",
        "          then KronDelta(true)\n",
        "        else if (compromised(?ht) ^ exists_{?c : credentials} [ACCESSES(?c, ?ht) ^ cracked(?c) ^ rotate_defend(?c)])\n",
        "          then KronDelta(false)\n",
        "        else compromised(?ht);\n",
        "\n",
        "    cracked'(?c) =\n",
        "        if (~cracked(?c) ^ crack_attack(?c) ^ rttc_crack_attack(?c) < 1 ^ exists_{?h : host} [STORES(?h, ?c) ^ compromised(?h)])\n",
        "          then KronDelta(true)\n",
        "        else if (cracked(?c) ^ rotate_defend(?c))\n",
        "          then KronDelta(false)\n",
        "        else cracked(?c);\n",
        "\n",
        "    rttc_crack_attack'(?c) =\n",
        "        if (~cracked(?c) ^ crack_attack(?c) ^ rttc_crack_attack(?c) > 0 ^ exists_{?h : host} [STORES(?h, ?c) ^ compromised(?h)])\n",
        "          then (rttc_crack_attack(?c) - 1)\n",
        "        else if (rotate_defend(?c))\n",
        "          then (ittc_crack_attack(?c))\n",
        "        else rttc_crack_attack(?c);\n",
        "\n",
        "};\n",
        "\n",
        "\n",
        "    reward = (sum_{?h: host} [compromised(?h)]);\n",
        "\n",
        "}\n",
        "\"\"\"\n",
        "domain_file = open(base_path+'domain.rddl','w')\n",
        "domain_file.write(DOMAIN)\n",
        "domain_file.close()"
      ]
    },
    {
      "cell_type": "code",
      "execution_count": 6,
      "metadata": {
        "id": "HS3r_XdJs7ow"
      },
      "outputs": [],
      "source": [
        "INSTANCE = \"\"\"\n",
        "non-fluents simple_network {\n",
        "\tdomain = simple_compromise;\n",
        "\n",
        "\tobjects{\n",
        "\t\thost: {h1, h2, h3};\n",
        "\t\tcredentials: {c1, c2, c3};\n",
        "//\t\thost: {h1, h2, h3, h4, h5, h6, h7, h8, h9};\n",
        "//\t\tcredentials: {c1, c2, c3, c4, c5, c6, c7, c8, c9};\n",
        "\t};\n",
        "\n",
        "\tnon-fluents {\n",
        "\t\tCONNECTED(h1, h2);\n",
        "\t\tCONNECTED(h1, h3);\n",
        "//\t\tCONNECTED(h3, h4);\n",
        "//\t\tCONNECTED(h4, h5);\n",
        "//\t\tCONNECTED(h2, h5);\n",
        "//\t\tCONNECTED(h5, h6);\n",
        "//\t\tCONNECTED(h6, h7);\n",
        "//\t\tCONNECTED(h6, h8);\n",
        "//\t\tCONNECTED(h8, h9);\n",
        "\t\tACCESSES(c1, h1);\n",
        "\t\tACCESSES(c2, h2);\n",
        "\t\tACCESSES(c3, h3);\n",
        "//\t\tACCESSES(c4, h4);\n",
        "//\t\tACCESSES(c5, h5);\n",
        "//\t\tACCESSES(c6, h6);\n",
        "//\t\tACCESSES(c7, h7);\n",
        "//\t\tACCESSES(c8, h8);\n",
        "//\t\tACCESSES(c9, h9);\n",
        "\t\tSTORES(h1, c1);\n",
        "\t\tSTORES(h1, c2);\n",
        "\t\tSTORES(h1, c3);\n",
        "//\t\tSTORES(h1, c4);\n",
        "//\t\tSTORES(h1, c5);\n",
        "//\t\tSTORES(h1, c6);\n",
        "//\t\tSTORES(h1, c7);\n",
        "//\t\tSTORES(h1, c8);\n",
        "//\t\tSTORES(h1, c9);\n",
        "\n",
        "\t\tittc_crack_attack(c1) = 1;\n",
        "\t\tittc_crack_attack(c2) = 2;\n",
        "\t\tittc_crack_attack(c3) = 0;\n",
        "//\t\tittc_crack_attack(c4) = 2;\n",
        "//\t\tittc_crack_attack(c5) = 1;\n",
        "//\t\tittc_crack_attack(c6) = 2;\n",
        "//\t\tittc_crack_attack(c7) = 3;\n",
        "//\t\tittc_crack_attack(c8) = 2;\n",
        "//\t\tittc_crack_attack(c9) = 1;\n",
        "\n",
        "\t};\n",
        "}\n",
        "\n",
        "instance simple_network_instance {\n",
        "\tdomain = simple_compromise;\n",
        "\tnon-fluents = simple_network;\n",
        "\n",
        "\tinit-state{\n",
        "\t\tcompromised(h1) = true;\n",
        "\n",
        "\t\trttc_crack_attack(c1) = 1;\n",
        "\t\trttc_crack_attack(c2) = 2;\n",
        "\t\trttc_crack_attack(c3) = 0;\n",
        "//\t\trttc_crack_attack(c4) = 2;\n",
        "//\t\trttc_crack_attack(c5) = 1;\n",
        "//\t\trttc_crack_attack(c6) = 2;\n",
        "//\t\trttc_crack_attack(c7) = 3;\n",
        "//\t\trttc_crack_attack(c8) = 2;\n",
        "//\t\trttc_crack_attack(c9) = 1;\n",
        "\t};\n",
        "\n",
        "\t\tmax-nondef-actions = 2;\n",
        "\t\thorizon = 100;\n",
        "\t\tdiscount = 1.0;\n",
        "}\n",
        "\"\"\"\n",
        "instance_file = open(base_path+'instance.rddl','w')\n",
        "instance_file.write(INSTANCE)\n",
        "instance_file.close()"
      ]
    },
    {
      "cell_type": "markdown",
      "source": [
        "# Execution"
      ],
      "metadata": {
        "id": "ehkyzORaI0cH"
      }
    },
    {
      "cell_type": "code",
      "execution_count": 7,
      "metadata": {
        "id": "YUouw0xaS-Bc",
        "colab": {
          "base_uri": "https://localhost:8080/"
        },
        "outputId": "6655721d-fb4f-40e4-f621-5ccb9478ef5f"
      },
      "outputs": [
        {
          "output_type": "stream",
          "name": "stdout",
          "text": [
            "myEnv.action_space = Dict('compromise_attack___h1': Discrete(2), 'compromise_attack___h2': Discrete(2), 'compromise_attack___h3': Discrete(2), 'crack_attack___c1': Discrete(2), 'crack_attack___c2': Discrete(2), 'crack_attack___c3': Discrete(2), 'rotate_defend___c1': Discrete(2), 'rotate_defend___c2': Discrete(2), 'rotate_defend___c3': Discrete(2))\n"
          ]
        }
      ],
      "source": [
        "from pyRDDLGym import RDDLEnv\n",
        "from pyRDDLGym import ExampleManager\n",
        "from pyRDDLGym.Visualizer.MovieGenerator import MovieGenerator\n",
        "from pyRDDLGym.Core.Policies.Agents import RandomAgent\n",
        "\n",
        "base_path = '/content/'\n",
        "myEnv = RDDLEnv.RDDLEnv(domain=base_path+'domain.rddl', instance=base_path+'instance.rddl')\n",
        "print(f'myEnv.action_space = {myEnv.action_space}')\n",
        "print\n",
        "agent = DoubleAgent(action_space=myEnv.action_space, attacker_policy='keyboard', defender_policy='passive', seed=42)"
      ]
    },
    {
      "cell_type": "code",
      "execution_count": 8,
      "metadata": {
        "id": "RQ02Cg7rMsq3",
        "colab": {
          "base_uri": "https://localhost:8080/",
          "height": 1000
        },
        "outputId": "67589d33-2046-4b86-b259-b90ae649329b"
      },
      "outputs": [
        {
          "output_type": "stream",
          "name": "stdout",
          "text": [
            "step         = 0\n",
            "attack steps = ['compromised___h1']\n",
            "TTCs         = [('rttc_crack_attack___c1', 1), ('rttc_crack_attack___c2', 2), ('rttc_crack_attack___c3', 0)]\n",
            "Available actions:\n",
            "0. compromise_attack___h1\n",
            "1. compromise_attack___h2\n",
            "2. compromise_attack___h3\n",
            "3. crack_attack___c1\n",
            "4. crack_attack___c2\n",
            "5. crack_attack___c3\n",
            "Enter the index of the action you want to take: 5\n",
            "action = {'rotate_defend___c1': 0}\n",
            "attack_action = {'crack_attack___c3': 1}\n",
            "defense_action = {'rotate_defend___c1': 0}\n",
            "\n",
            "step         = 0\n",
            "attack steps = ['compromised___h1']\n",
            "TTCs         = [('rttc_crack_attack___c1', 1), ('rttc_crack_attack___c2', 2), ('rttc_crack_attack___c3', 0)]\n",
            "action       = {'crack_attack___c3': 1, 'rotate_defend___c1': 0}\n",
            "attack steps = ['compromised___h1', 'cracked___c3']\n",
            "TTCs         = [('rttc_crack_attack___c1', 1), ('rttc_crack_attack___c2', 2), ('rttc_crack_attack___c3', 0)]\n",
            "reward       = 1.0\n",
            "Available actions:\n",
            "0. compromise_attack___h1\n",
            "1. compromise_attack___h2\n",
            "2. compromise_attack___h3\n",
            "3. crack_attack___c1\n",
            "4. crack_attack___c2\n",
            "5. crack_attack___c3\n",
            "Enter the index of the action you want to take: 3\n",
            "action = {'rotate_defend___c1': 0}\n",
            "attack_action = {'crack_attack___c1': 1}\n",
            "defense_action = {'rotate_defend___c1': 0}\n",
            "\n",
            "step         = 1\n",
            "attack steps = ['compromised___h1', 'cracked___c3']\n",
            "TTCs         = [('rttc_crack_attack___c1', 1), ('rttc_crack_attack___c2', 2), ('rttc_crack_attack___c3', 0)]\n",
            "action       = {'crack_attack___c1': 1, 'rotate_defend___c1': 0}\n",
            "attack steps = ['compromised___h1', 'cracked___c3']\n",
            "TTCs         = [('rttc_crack_attack___c1', 0), ('rttc_crack_attack___c2', 2), ('rttc_crack_attack___c3', 0)]\n",
            "reward       = 1.0\n",
            "Available actions:\n",
            "0. compromise_attack___h1\n",
            "1. compromise_attack___h2\n",
            "2. compromise_attack___h3\n",
            "3. crack_attack___c1\n",
            "4. crack_attack___c2\n",
            "5. crack_attack___c3\n",
            "Enter the index of the action you want to take: 2\n",
            "action = {'rotate_defend___c1': 0}\n",
            "attack_action = {'compromise_attack___h3': 1}\n",
            "defense_action = {'rotate_defend___c1': 0}\n",
            "\n",
            "step         = 2\n",
            "attack steps = ['compromised___h1', 'cracked___c3']\n",
            "TTCs         = [('rttc_crack_attack___c1', 0), ('rttc_crack_attack___c2', 2), ('rttc_crack_attack___c3', 0)]\n",
            "action       = {'compromise_attack___h3': 1, 'rotate_defend___c1': 0}\n",
            "attack steps = ['compromised___h1', 'compromised___h3', 'cracked___c3']\n",
            "TTCs         = [('rttc_crack_attack___c1', 0), ('rttc_crack_attack___c2', 2), ('rttc_crack_attack___c3', 0)]\n",
            "reward       = 1.0\n",
            "Available actions:\n",
            "0. compromise_attack___h1\n",
            "1. compromise_attack___h2\n",
            "2. compromise_attack___h3\n",
            "3. crack_attack___c1\n",
            "4. crack_attack___c2\n",
            "5. crack_attack___c3\n"
          ]
        },
        {
          "output_type": "error",
          "ename": "KeyboardInterrupt",
          "evalue": "ignored",
          "traceback": [
            "\u001b[0;31m---------------------------------------------------------------------------\u001b[0m",
            "\u001b[0;31mKeyboardInterrupt\u001b[0m                         Traceback (most recent call last)",
            "\u001b[0;32m<ipython-input-8-00f563d618d5>\u001b[0m in \u001b[0;36m<cell line: 9>\u001b[0;34m()\u001b[0m\n\u001b[1;32m      8\u001b[0m \u001b[0mprint\u001b[0m\u001b[0;34m(\u001b[0m\u001b[0;34mf'TTCs         = {[(attackstep, value) for attackstep, value in state.items() if type(value) is numpy.int64]}'\u001b[0m\u001b[0;34m)\u001b[0m\u001b[0;34m\u001b[0m\u001b[0;34m\u001b[0m\u001b[0m\n\u001b[1;32m      9\u001b[0m \u001b[0;32mfor\u001b[0m \u001b[0mstep\u001b[0m \u001b[0;32min\u001b[0m \u001b[0mrange\u001b[0m\u001b[0;34m(\u001b[0m\u001b[0mmyEnv\u001b[0m\u001b[0;34m.\u001b[0m\u001b[0mhorizon\u001b[0m\u001b[0;34m)\u001b[0m\u001b[0;34m:\u001b[0m\u001b[0;34m\u001b[0m\u001b[0;34m\u001b[0m\u001b[0m\n\u001b[0;32m---> 10\u001b[0;31m     \u001b[0maction\u001b[0m \u001b[0;34m=\u001b[0m \u001b[0magent\u001b[0m\u001b[0;34m.\u001b[0m\u001b[0msample_action\u001b[0m\u001b[0;34m(\u001b[0m\u001b[0;34m)\u001b[0m\u001b[0;34m\u001b[0m\u001b[0;34m\u001b[0m\u001b[0m\n\u001b[0m\u001b[1;32m     11\u001b[0m     \u001b[0mnext_state\u001b[0m\u001b[0;34m,\u001b[0m \u001b[0mreward\u001b[0m\u001b[0;34m,\u001b[0m \u001b[0mdone\u001b[0m\u001b[0;34m,\u001b[0m \u001b[0minfo\u001b[0m \u001b[0;34m=\u001b[0m \u001b[0mmyEnv\u001b[0m\u001b[0;34m.\u001b[0m\u001b[0mstep\u001b[0m\u001b[0;34m(\u001b[0m\u001b[0maction\u001b[0m\u001b[0;34m)\u001b[0m\u001b[0;34m\u001b[0m\u001b[0;34m\u001b[0m\u001b[0m\n\u001b[1;32m     12\u001b[0m     \u001b[0mtotal_reward\u001b[0m \u001b[0;34m+=\u001b[0m \u001b[0mreward\u001b[0m\u001b[0;34m\u001b[0m\u001b[0;34m\u001b[0m\u001b[0m\n",
            "\u001b[0;32m<ipython-input-2-b3e511ae1cf9>\u001b[0m in \u001b[0;36msample_action\u001b[0;34m(self, state)\u001b[0m\n\u001b[1;32m     71\u001b[0m \u001b[0;34m\u001b[0m\u001b[0m\n\u001b[1;32m     72\u001b[0m     \u001b[0;32mdef\u001b[0m \u001b[0msample_action\u001b[0m\u001b[0;34m(\u001b[0m\u001b[0mself\u001b[0m\u001b[0;34m,\u001b[0m \u001b[0mstate\u001b[0m\u001b[0;34m=\u001b[0m\u001b[0;32mNone\u001b[0m\u001b[0;34m)\u001b[0m\u001b[0;34m:\u001b[0m\u001b[0;34m\u001b[0m\u001b[0;34m\u001b[0m\u001b[0m\n\u001b[0;32m---> 73\u001b[0;31m         \u001b[0mattack_action\u001b[0m \u001b[0;34m=\u001b[0m \u001b[0mself\u001b[0m\u001b[0;34m.\u001b[0m\u001b[0mattacker\u001b[0m\u001b[0;34m.\u001b[0m\u001b[0msample_action\u001b[0m\u001b[0;34m(\u001b[0m\u001b[0mstate\u001b[0m\u001b[0;34m=\u001b[0m\u001b[0mstate\u001b[0m\u001b[0;34m)\u001b[0m\u001b[0;34m\u001b[0m\u001b[0;34m\u001b[0m\u001b[0m\n\u001b[0m\u001b[1;32m     74\u001b[0m         \u001b[0mdefense_action\u001b[0m \u001b[0;34m=\u001b[0m \u001b[0mself\u001b[0m\u001b[0;34m.\u001b[0m\u001b[0mdefender\u001b[0m\u001b[0;34m.\u001b[0m\u001b[0msample_action\u001b[0m\u001b[0;34m(\u001b[0m\u001b[0mstate\u001b[0m\u001b[0;34m=\u001b[0m\u001b[0mstate\u001b[0m\u001b[0;34m)\u001b[0m\u001b[0;34m\u001b[0m\u001b[0;34m\u001b[0m\u001b[0m\n\u001b[1;32m     75\u001b[0m         \u001b[0mprint\u001b[0m\u001b[0;34m(\u001b[0m\u001b[0;34mf'attack_action = {attack_action}'\u001b[0m\u001b[0;34m)\u001b[0m\u001b[0;34m\u001b[0m\u001b[0;34m\u001b[0m\u001b[0m\n",
            "\u001b[0;32m<ipython-input-2-b3e511ae1cf9>\u001b[0m in \u001b[0;36msample_action\u001b[0;34m(self, state)\u001b[0m\n\u001b[1;32m     41\u001b[0m             \u001b[0mprint\u001b[0m\u001b[0;34m(\u001b[0m\u001b[0;34mf\"{i}. {action}\"\u001b[0m\u001b[0;34m)\u001b[0m\u001b[0;34m\u001b[0m\u001b[0;34m\u001b[0m\u001b[0m\n\u001b[1;32m     42\u001b[0m \u001b[0;34m\u001b[0m\u001b[0m\n\u001b[0;32m---> 43\u001b[0;31m         \u001b[0mselected_index\u001b[0m \u001b[0;34m=\u001b[0m \u001b[0mint\u001b[0m\u001b[0;34m(\u001b[0m\u001b[0minput\u001b[0m\u001b[0;34m(\u001b[0m\u001b[0;34m\"Enter the index of the action you want to take: \"\u001b[0m\u001b[0;34m)\u001b[0m\u001b[0;34m)\u001b[0m\u001b[0;34m\u001b[0m\u001b[0;34m\u001b[0m\u001b[0m\n\u001b[0m\u001b[1;32m     44\u001b[0m \u001b[0;34m\u001b[0m\u001b[0m\n\u001b[1;32m     45\u001b[0m         \u001b[0;32mif\u001b[0m \u001b[0mselected_index\u001b[0m \u001b[0;34m<\u001b[0m \u001b[0;36m0\u001b[0m \u001b[0;32mor\u001b[0m \u001b[0mselected_index\u001b[0m \u001b[0;34m>=\u001b[0m \u001b[0mlen\u001b[0m\u001b[0;34m(\u001b[0m\u001b[0mavailable_actions\u001b[0m\u001b[0;34m)\u001b[0m\u001b[0;34m:\u001b[0m\u001b[0;34m\u001b[0m\u001b[0;34m\u001b[0m\u001b[0m\n",
            "\u001b[0;32m/usr/local/lib/python3.10/dist-packages/ipykernel/kernelbase.py\u001b[0m in \u001b[0;36mraw_input\u001b[0;34m(self, prompt)\u001b[0m\n\u001b[1;32m    849\u001b[0m         \u001b[0munique\u001b[0m\u001b[0;34m=\u001b[0m\u001b[0;32mFalse\u001b[0m\u001b[0;34m,\u001b[0m\u001b[0;34m\u001b[0m\u001b[0;34m\u001b[0m\u001b[0m\n\u001b[1;32m    850\u001b[0m     ):\n\u001b[0;32m--> 851\u001b[0;31m         \u001b[0;34m\"\"\"Override in subclasses to access history.\"\"\"\u001b[0m\u001b[0;34m\u001b[0m\u001b[0;34m\u001b[0m\u001b[0m\n\u001b[0m\u001b[1;32m    852\u001b[0m         \u001b[0;32mreturn\u001b[0m \u001b[0;34m{\u001b[0m\u001b[0;34m\"status\"\u001b[0m\u001b[0;34m:\u001b[0m \u001b[0;34m\"ok\"\u001b[0m\u001b[0;34m,\u001b[0m \u001b[0;34m\"history\"\u001b[0m\u001b[0;34m:\u001b[0m \u001b[0;34m[\u001b[0m\u001b[0;34m]\u001b[0m\u001b[0;34m}\u001b[0m\u001b[0;34m\u001b[0m\u001b[0;34m\u001b[0m\u001b[0m\n\u001b[1;32m    853\u001b[0m \u001b[0;34m\u001b[0m\u001b[0m\n",
            "\u001b[0;32m/usr/local/lib/python3.10/dist-packages/ipykernel/kernelbase.py\u001b[0m in \u001b[0;36m_input_request\u001b[0;34m(self, prompt, ident, parent, password)\u001b[0m\n\u001b[1;32m    893\u001b[0m         \u001b[0mreply_content\u001b[0m \u001b[0;34m=\u001b[0m \u001b[0mdict\u001b[0m\u001b[0;34m(\u001b[0m\u001b[0mcomms\u001b[0m\u001b[0;34m=\u001b[0m\u001b[0mcomms\u001b[0m\u001b[0;34m,\u001b[0m \u001b[0mstatus\u001b[0m\u001b[0;34m=\u001b[0m\u001b[0;34m\"ok\"\u001b[0m\u001b[0;34m)\u001b[0m\u001b[0;34m\u001b[0m\u001b[0;34m\u001b[0m\u001b[0m\n\u001b[1;32m    894\u001b[0m         \u001b[0mmsg\u001b[0m \u001b[0;34m=\u001b[0m \u001b[0mself\u001b[0m\u001b[0;34m.\u001b[0m\u001b[0msession\u001b[0m\u001b[0;34m.\u001b[0m\u001b[0msend\u001b[0m\u001b[0;34m(\u001b[0m\u001b[0mstream\u001b[0m\u001b[0;34m,\u001b[0m \u001b[0;34m\"comm_info_reply\"\u001b[0m\u001b[0;34m,\u001b[0m \u001b[0mreply_content\u001b[0m\u001b[0;34m,\u001b[0m \u001b[0mparent\u001b[0m\u001b[0;34m,\u001b[0m \u001b[0mident\u001b[0m\u001b[0;34m)\u001b[0m\u001b[0;34m\u001b[0m\u001b[0;34m\u001b[0m\u001b[0m\n\u001b[0;32m--> 895\u001b[0;31m         \u001b[0mself\u001b[0m\u001b[0;34m.\u001b[0m\u001b[0mlog\u001b[0m\u001b[0;34m.\u001b[0m\u001b[0mdebug\u001b[0m\u001b[0;34m(\u001b[0m\u001b[0;34m\"%s\"\u001b[0m\u001b[0;34m,\u001b[0m \u001b[0mmsg\u001b[0m\u001b[0;34m)\u001b[0m\u001b[0;34m\u001b[0m\u001b[0;34m\u001b[0m\u001b[0m\n\u001b[0m\u001b[1;32m    896\u001b[0m \u001b[0;34m\u001b[0m\u001b[0m\n\u001b[1;32m    897\u001b[0m     \u001b[0;32mdef\u001b[0m \u001b[0m_send_interrupt_children\u001b[0m\u001b[0;34m(\u001b[0m\u001b[0mself\u001b[0m\u001b[0;34m)\u001b[0m\u001b[0;34m:\u001b[0m\u001b[0;34m\u001b[0m\u001b[0;34m\u001b[0m\u001b[0m\n",
            "\u001b[0;31mKeyboardInterrupt\u001b[0m: Interrupted by user"
          ]
        }
      ],
      "source": [
        "import time\n",
        "import numpy\n",
        "total_reward = 0\n",
        "state = myEnv.reset()\n",
        "start_time = time.time()\n",
        "print(f'step         = 0')\n",
        "print(f'attack steps = {[attackstep for attackstep, value in state.items() if type(value) is numpy.bool_ and value == True]}')\n",
        "print(f'TTCs         = {[(attackstep, value) for attackstep, value in state.items() if type(value) is numpy.int64]}')\n",
        "for step in range(myEnv.horizon):\n",
        "    action = agent.sample_action()\n",
        "    next_state, reward, done, info = myEnv.step(action)\n",
        "    total_reward += reward\n",
        "    print()\n",
        "    print(f'step         = {step}')\n",
        "    print(f'attack steps = {[attackstep for attackstep, value in state.items() if type(value) is numpy.bool_ and value == True]}')\n",
        "    print(f'TTCs         = {[(attackstep, value) for attackstep, value in state.items() if type(value) is numpy.int64]}')\n",
        "    print(f'action       = {action}')\n",
        "    print(f'attack steps = {[attackstep for attackstep, value in next_state.items() if type(value) is numpy.bool_ and value == True]}')\n",
        "    print(f'TTCs         = {[(attackstep, value) for attackstep, value in next_state.items() if type(value) is numpy.int64]}')\n",
        "    print(f'reward       = {reward}')\n",
        "    state = next_state\n",
        "    if done:\n",
        "        break\n",
        "end_time = time.time()\n",
        "print()\n",
        "print(f'episode ended with reward {total_reward}. Execution time was {end_time-start_time} s.')\n",
        "\n",
        "myEnv.close()"
      ]
    }
  ],
  "metadata": {
    "colab": {
      "collapsed_sections": [
        "S72bQWT93LN6"
      ],
      "provenance": [],
      "include_colab_link": true
    },
    "kernelspec": {
      "display_name": "Python 3",
      "name": "python3"
    },
    "language_info": {
      "name": "python"
    }
  },
  "nbformat": 4,
  "nbformat_minor": 0
}